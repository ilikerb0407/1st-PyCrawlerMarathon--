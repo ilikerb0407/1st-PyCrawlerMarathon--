{
 "nbformat": 4,
 "nbformat_minor": 2,
 "metadata": {
  "language_info": {
   "name": "python",
   "codemirror_mode": {
    "name": "ipython",
    "version": 3
   },
   "version": "3.7.4"
  },
  "orig_nbformat": 2,
  "file_extension": ".py",
  "mimetype": "text/x-python",
  "name": "python",
  "npconvert_exporter": "python",
  "pygments_lexer": "ipython3",
  "version": 3
 },
 "cells": [
  {
   "cell_type": "code",
   "execution_count": 1,
   "metadata": {},
   "outputs": [
    {
     "name": "stdout",
     "output_type": "stream",
     "text": "1486390229\n"
    }
   ],
   "source": [
    "import requests , json\n",
    "header = {'user-agent':'abc'}\n",
    "r = requests.get('https://www.zhihu.com/api/v4/questions/55493026/answers', headers = header)\n",
    "response = json.loads(r.text)\n",
    "print (response['data'][0]['question']['created'])\n",
    "\n"
   ]
  },
  {
   "cell_type": "code",
   "execution_count": 14,
   "metadata": {},
   "outputs": [
    {
     "name": "stdout",
     "output_type": "stream",
     "text": "[1554085028, 1572318426]\n"
    }
   ],
   "source": [
    "output=[]\n",
    "for i in [1, len(response['data'])-1]:\n",
    "    output.append(response['data'][i]['created_time'])\n",
    "print (output)\n"
   ]
  },
  {
   "cell_type": "code",
   "execution_count": null,
   "metadata": {},
   "outputs": [],
   "source": []
  }
 ]
}