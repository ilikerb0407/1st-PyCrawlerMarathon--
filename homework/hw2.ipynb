
File I/0 的資料不會像CSV Reader 的有[]和'' 將資料分隔開


# 1. 取出班次一的每一個時間
import csv 
with open('./data/example.csv', newline='') as csvfile:
    row = csv.reader(csvfile)
    for row in rows:
        print(row[5])



# 2. 將班次一的每一個時間用一種資料型態保存
import csv 
with open('./data/example.csv', newline='') as csvfile:
    row = csv.reader(csvfile)
    for row in rows:
    list_time=[]
    list_time += [row[5]]
print (list_time)



# 3. 將班次一到五與其所有時間用一種資料型態個別保存
import csv 
with open('./data/example.csv', newline='') as csvfile:
    row = csv.reader(csvfile)
    for row in rows:
      list_time=[]
    list_time += [row[5:10]]
print (list_time)