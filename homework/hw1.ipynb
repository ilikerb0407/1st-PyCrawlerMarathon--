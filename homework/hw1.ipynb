{
 "nbformat": 4,
 "nbformat_minor": 2,
 "metadata": {
  "language_info": {
   "name": "python",
   "codemirror_mode": {
    "name": "ipython",
    "version": 2
   },
   "version": "3.7.4"
  },
  "orig_nbformat": 2,
  "file_extension": ".py",
  "mimetype": "text/x-python",
  "name": "python",
  "npconvert_exporter": "python",
  "pygments_lexer": "ipython2",
  "version": 2
 },
 "cells": [
  {
   "cell_type": "code",
   "execution_count": 4,
   "metadata": {},
   "outputs": [],
   "source": [
    "try :\n",
    "    os.makedirs('./Data',exist_ok=True)\n",
    "    urlretrieve(\"https://www.w3.org/TR/PNG/iso_8859-1.txt\",\"./Data/Homework.txt\")\n",
    "except:\n",
    "    print('error!')"
   ]
  },
  {
   "cell_type": "code",
   "execution_count": 5,
   "metadata": {},
   "outputs": [
    {
     "name": "stdout",
     "output_type": "stream",
     "text": "okay\n"
    }
   ],
   "source": [
    "files =os.listdir('./Data')\n",
    "if 'Homework.txt' in files:\n",
    "    print('okay')\n",
    "else:\n",
    "    print('not okay')\n"
   ]
  },
  {
   "cell_type": "code",
   "execution_count": 6,
   "metadata": {},
   "outputs": [],
   "source": [
    "f=''\n",
    "with open (\"./Data/Homework.txt\",\"w\") as fh:\n",
    "    f = fh.write(\"hello world\")\n",
    "try:\n",
    "    with open(\"./Data/Homework.txt\",\"r\") as fh:\n",
    "        f =fh.read()\n",
    "except EnvironmentError:\n",
    "    pass"
   ]
  },
  {
   "cell_type": "code",
   "execution_count": 7,
   "metadata": {},
   "outputs": [
    {
     "name": "stdout",
     "output_type": "stream",
     "text": "okay\n"
    }
   ],
   "source": [
    "if len ('hello world') ==len(f):\n",
    "    print('okay')\n",
    "else:\n",
    "    print('not okay')\n",
    "    "
   ]
  },
  {
   "cell_type": "code",
   "execution_count": null,
   "metadata": {},
   "outputs": [],
   "source": []
  },
  {
   "cell_type": "code",
   "execution_count": 1,
   "metadata": {},
   "outputs": [],
   "source": [
    "from urllib.request import urlretrieve\n",
    "import os\n"
   ]
  }
 ]
}