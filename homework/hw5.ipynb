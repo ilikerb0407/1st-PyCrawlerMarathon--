{
 "nbformat": 4,
 "nbformat_minor": 2,
 "metadata": {
  "language_info": {
   "name": "python",
   "codemirror_mode": {
    "name": "ipython",
    "version": 3
   },
   "version": "3.7.4"
  },
  "orig_nbformat": 2,
  "file_extension": ".py",
  "mimetype": "text/x-python",
  "name": "python",
  "npconvert_exporter": "python",
  "pygments_lexer": "ipython3",
  "version": 3
 },
 "cells": [
  {
   "cell_type": "code",
   "execution_count": 1,
   "metadata": {},
   "outputs": [
    {
     "name": "stdout",
     "output_type": "stream",
     "text": "30\n"
    }
   ],
   "source": [
    "import requests\n",
    "response = requests.get('https://www.dcard.tw/_api/forums/pet/posts?popular=true')\n",
    "import json \n",
    "data = json.loads(response.text)\n",
    "print (len(data))\n"
   ]
  },
  {
   "cell_type": "code",
   "execution_count": 2,
   "metadata": {},
   "outputs": [
    {
     "name": "stdout",
     "output_type": "stream",
     "text": "id\ntitle\nexcerpt\nanonymousSchool\nanonymousDepartment\npinned\nforumId\nreplyId\ncreatedAt\nupdatedAt\ncommentCount\nlikeCount\nwithNickname\ntags\ntopics\nmeta\nforumName\nforumAlias\ngender\nschool\ndepartment\nreplyTitle\nmediaMeta\nreactions\nhidden\ncustomStyle\nisSuspiciousAccount\nlayout\nwithImages\nwithVideos\nmedia\nreportReasonText\npostAvatar\n"
    }
   ],
   "source": [
    "for i in data[0]:\n",
    "    print (i)  "
   ]
  },
  {
   "cell_type": "code",
   "execution_count": 16,
   "metadata": {},
   "outputs": [
    {
     "name": "stdout",
     "output_type": "stream",
     "text": "第1筆資料\n標題:你在泡澡嗎\n貼文時間：2019-12-28T08:22:14.450Z\n留言人數：15\n按讚人數：1721\n\n\n第2筆資料\n標題:養兩周的狗狗被醫生說得腫瘤\n貼文時間：2019-12-28T02:26:22.473Z\n留言人數：103\n按讚人數：1671\n\n\n第3筆資料\n標題:厭世貓把眼睛張開的時候\n貼文時間：2019-12-28T21:03:30.065Z\n留言人數：14\n按讚人數：514\n\n\n第4筆資料\n標題:牠們還能消耗多久\n貼文時間：2019-12-29T05:25:32.831Z\n留言人數：25\n按讚人數：456\n\n\n第5筆資料\n標題:一到冬天就變蓬\n貼文時間：2019-12-28T12:24:47.787Z\n留言人數：14\n按讚人數：372\n\n\n第6筆資料\n標題:療癒人心的 #柴藝術家 （內有黃金慎入\n貼文時間：2019-12-28T08:24:19.445Z\n留言人數：4\n按讚人數：62\n\n\n第7筆資料\n標題:崩壞貓貓\n貼文時間：2019-12-28T14:04:57.252Z\n留言人數：5\n按讚人數：54\n\n\n第8筆資料\n標題:不能去大陸的狗🤣🤣🤣\n貼文時間：2019-12-29T01:15:31.634Z\n留言人數：6\n按讚人數：53\n\n\n第9筆資料\n標題:再見了寶貝布丁\n貼文時間：2019-12-28T12:33:31.493Z\n留言人數：9\n按讚人數：36\n\n\n第10筆資料\n標題:最近迪卡好多兔子🐰\n貼文時間：2019-12-28T12:24:34.864Z\n留言人數：4\n按讚人數：33\n\n\n第11筆資料\n標題:猴死囝仔 給我出來接受審判\n貼文時間：2019-12-29T03:05:40.003Z\n留言人數：3\n按讚人數：28\n\n\n第12筆資料\n標題:✨我家的小臘腸\n貼文時間：2019-12-28T18:55:53.778Z\n留言人數：3\n按讚人數：27\n\n\n第13筆資料\n標題:幼貓認養（高雄鳳山）\n貼文時間：2019-12-29T08:17:33.897Z\n留言人數：2\n按讚人數：25\n\n\n第14筆資料\n標題:被誤會的奶🤔\n貼文時間：2019-12-29T06:42:54.774Z\n留言人數：8\n按讚人數：25\n\n\n第15筆資料\n標題:可愛的孩紙🐰\n貼文時間：2019-12-28T11:43:30.990Z\n留言人數：3\n按讚人數：24\n\n\n第16筆資料\n標題:#鼠寶 嗨 肉咖 下輩子投胎要當人ㄛ\n貼文時間：2019-12-28T10:09:45.747Z\n留言人數：1\n按讚人數：24\n\n\n第17筆資料\n標題:愛拜託的狗+自製寵物春聯\n貼文時間：2019-12-28T12:07:25.637Z\n留言人數：4\n按讚人數：20\n\n\n第18筆資料\n標題:#圖多 貓的睡姿能有多醜？\n貼文時間：2019-12-28T11:26:24.245Z\n留言人數：6\n按讚人數：16\n\n\n第19筆資料\n標題:我是一條花生\n貼文時間：2019-12-29T06:25:42.292Z\n留言人數：5\n按讚人數：15\n\n\n第20筆資料\n標題:領養的黃金鼠有心臟病\n貼文時間：2019-12-28T19:11:26.509Z\n留言人數：3\n按讚人數：14\n\n\n第21筆資料\n標題:🐶花童禮服❤️\n貼文時間：2019-12-28T13:38:15.061Z\n留言人數：0\n按讚人數：12\n\n\n第22筆資料\n標題:你們在放閃嗎！\n貼文時間：2019-12-29T11:03:53.879Z\n留言人數：2\n按讚人數：11\n\n\n第23筆資料\n標題:我ㄉ好朋友\n貼文時間：2019-12-28T12:58:06.849Z\n留言人數：4\n按讚人數：11\n\n\n第24筆資料\n標題:總是被說醜醜美\n貼文時間：2019-12-28T11:28:02.773Z\n留言人數：4\n按讚人數：11\n\n\n第25筆資料\n標題:尋狗/台北/拉布拉多\n貼文時間：2019-12-28T19:07:43.678Z\n留言人數：0\n按讚人數：10\n\n\n第26筆資料\n標題:幫忙找毛小孩\n貼文時間：2019-12-29T07:26:18.931Z\n留言人數：0\n按讚人數：8\n\n\n第27筆資料\n標題:打哈欠的藝術\n貼文時間：2019-12-29T10:16:34.536Z\n留言人數：1\n按讚人數：7\n\n\n第28筆資料\n標題:脖子上的項圈。\n貼文時間：2019-12-29T08:15:26.372Z\n留言人數：4\n按讚人數：7\n\n\n第29筆資料\n標題:半夜遭貓小偷\n貼文時間：2019-12-29T06:00:11.071Z\n留言人數：0\n按讚人數：7\n\n\n第30筆資料\n標題:我家的主子 也有醜陋的一面\n貼文時間：2019-12-29T05:03:08.541Z\n留言人數：2\n按讚人數：7\n\n\n"
    }
   ],
   "source": [
    "n=1\n",
    "for i in data:\n",
    "    print (f\"第{n}筆資料\")\n",
    "    print (f\"標題:{i['title']}\")\n",
    "    print (f\"貼文時間：{i['createdAt']}\")\n",
    "    print (f\"留言人數：{i['commentCount']}\")\n",
    "    print (f\"按讚人數：{i['likeCount']}\")\n",
    "    print('\\n')\n",
    "    n=n+1\n"
   ]
  },
  {
   "cell_type": "code",
   "execution_count": 19,
   "metadata": {},
   "outputs": [
    {
     "name": "stdout",
     "output_type": "stream",
     "text": "熱門平均留言人數:8.466666666666667\n熱門平均按讚人數：176.03333333333333\n"
    }
   ],
   "source": [
    "import numpy as np \n",
    "comment_count=[]\n",
    "like_count =[]\n",
    "for i in data:\n",
    "    comment_count.append(i['commentCount'])\n",
    "    like_count.append(i['likeCount'])\n",
    "print (f'熱門平均留言人數:{np.average(comment_count)}')\n",
    "print (f'熱門平均按讚人數：{np.average(like_count)}')\n"
   ]
  },
  {
   "cell_type": "code",
   "execution_count": 25,
   "metadata": {},
   "outputs": [
    {
     "name": "stdout",
     "output_type": "stream",
     "text": "非熱門平均留言人數:3.1666666666666665\n非熱門平均按讚人數:25.466666666666665\n"
    }
   ],
   "source": [
    "r = requests.get('https://www.dcard.tw/_api/forums/pet/posts?popular=false')\n",
    "data = json.loads(r.text)\n",
    "comment_count=[]\n",
    "like_count=[]\n",
    "for i in data:\n",
    "    comment_count.append(i['commentCount'])\n",
    "    like_count.append(i['likeCount'])\n",
    "print(f'非熱門平均留言人數:{np.average(comment_count)}')\n",
    "print(f'非熱門平均按讚人數:{np.average(like_count)}')\n"
   ]
  },
  {
   "cell_type": "code",
   "execution_count": null,
   "metadata": {},
   "outputs": [],
   "source": []
  }
 ]
}